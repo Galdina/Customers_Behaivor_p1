{
 "cells": [
  {
   "cell_type": "code",
   "execution_count": 1,
   "metadata": {
    "_cell_guid": "b1076dfc-b9ad-4769-8c92-a6c4dae69d19",
    "_uuid": "8f2839f25d086af736a60e9eeb907d3b93b6e0e5"
   },
   "outputs": [],
   "source": [
    "# This Python 3 environment comes with many helpful analytics libraries installed\n",
    "# It is defined by the kaggle/python Docker image: https://github.com/kaggle/docker-python\n",
    "# For example, here's several helpful packages to load\n",
    "\n",
    "import numpy as np # linear algebra\n",
    "import pandas as pd # data processing, CSV file I/O (e.g. pd.read_csv)\n",
    "\n",
    "# Input data files are available in the read-only \"../input/\" directory\n",
    "# For example, running this (by clicking run or pressing Shift+Enter) will list all files under the input directory\n",
    "\n",
    "import os\n",
    "for dirname, _, filenames in os.walk('/kaggle/input'):\n",
    "    for filename in filenames:\n",
    "        print(os.path.join(dirname, filename))\n",
    "\n",
    "# You can write up to 5GB to the current directory (/kaggle/working/) that gets preserved as output when you create a version using \"Save & Run All\" \n",
    "# You can also write temporary files to /kaggle/temp/, but they won't be saved outside of the current session"
   ]
  },
  {
   "cell_type": "code",
   "execution_count": 2,
   "metadata": {
    "_cell_guid": "79c7e3d0-c299-4dcb-8224-4455121ee9b0",
    "_uuid": "d629ff2d2480ee46fbb7e2d37f6b5fab8052498a"
   },
   "outputs": [
    {
     "data": {
      "text/html": [
       "        <script type=\"text/javascript\">\n",
       "        window.PlotlyConfig = {MathJaxConfig: 'local'};\n",
       "        if (window.MathJax) {MathJax.Hub.Config({SVG: {font: \"STIX-Web\"}});}\n",
       "        if (typeof require !== 'undefined') {\n",
       "        require.undef(\"plotly\");\n",
       "        requirejs.config({\n",
       "            paths: {\n",
       "                'plotly': ['https://cdn.plot.ly/plotly-latest.min']\n",
       "            }\n",
       "        });\n",
       "        require(['plotly'], function(Plotly) {\n",
       "            window._Plotly = Plotly;\n",
       "        });\n",
       "        }\n",
       "        </script>\n",
       "        "
      ]
     },
     "metadata": {},
     "output_type": "display_data"
    }
   ],
   "source": [
    "import bq_helper\n",
    "import matplotlib\n",
    "import matplotlib.pyplot as plt\n",
    "import seaborn as sns\n",
    "from IPython.display import set_matplotlib_formats\n",
    "from plotly.offline import init_notebook_mode, iplot\n",
    "init_notebook_mode(connected=True)\n",
    "import plotly.graph_objs as go\n",
    "import plotly.express as px\n",
    "\n",
    "set_matplotlib_formats('retina')\n",
    "%matplotlib inline"
   ]
  },
  {
   "cell_type": "code",
   "execution_count": 3,
   "metadata": {},
   "outputs": [
    {
     "name": "stdout",
     "output_type": "stream",
     "text": [
      "Using Kaggle's public dataset BigQuery integration.\n"
     ]
    }
   ],
   "source": [
    "from google.cloud import bigquery\n",
    "client = bigquery.Client()"
   ]
  },
  {
   "cell_type": "code",
   "execution_count": 39,
   "metadata": {},
   "outputs": [
    {
     "data": {
      "text/html": [
       "<div>\n",
       "<style scoped>\n",
       "    .dataframe tbody tr th:only-of-type {\n",
       "        vertical-align: middle;\n",
       "    }\n",
       "\n",
       "    .dataframe tbody tr th {\n",
       "        vertical-align: top;\n",
       "    }\n",
       "\n",
       "    .dataframe thead th {\n",
       "        text-align: right;\n",
       "    }\n",
       "</style>\n",
       "<table border=\"1\" class=\"dataframe\">\n",
       "  <thead>\n",
       "    <tr style=\"text-align: right;\">\n",
       "      <th></th>\n",
       "      <th>users</th>\n",
       "      <th>visits</th>\n",
       "      <th>pageviews</th>\n",
       "      <th>transactions</th>\n",
       "      <th>revenue</th>\n",
       "    </tr>\n",
       "  </thead>\n",
       "  <tbody>\n",
       "    <tr>\n",
       "      <th>0</th>\n",
       "      <td>8,315</td>\n",
       "      <td>9,537</td>\n",
       "      <td>256,659</td>\n",
       "      <td>9,970</td>\n",
       "      <td>1259373.44</td>\n",
       "    </tr>\n",
       "  </tbody>\n",
       "</table>\n",
       "</div>"
      ],
      "text/plain": [
       "   users visits pageviews transactions     revenue\n",
       "0  8,315  9,537   256,659        9,970  1259373.44"
      ]
     },
     "execution_count": 39,
     "metadata": {},
     "output_type": "execute_result"
    }
   ],
   "source": [
    "query = \"\"\"\n",
    "    SELECT \n",
    "        FORMAT(\"%'d\",COUNT(DISTINCT fullVisitorId)) AS users,\n",
    "        FORMAT(\"%'d\",SUM(totals.visits)) AS visits,\n",
    "        FORMAT(\"%'d\",SUM(totals.pageviews)) AS pageviews,\n",
    "        FORMAT(\"%'d\", SUM(totals.transactions)) AS transactions,\n",
    "        SUM(totals.transactionRevenue)/1000000 AS revenue\n",
    "\n",
    "    FROM \n",
    "        `bigquery-public-data.google_analytics_sample.ga_sessions_*`\n",
    "    WHERE\n",
    "        _TABLE_SUFFIX BETWEEN '20161001' AND '20170801'\n",
    "        AND totals.totalTransactionRevenue IS NOT NULL\n",
    "        \n",
    "\"\"\"\n",
    "safe_query_job = client.query(query)\n",
    "revenue = safe_query_job.to_dataframe()\n",
    "revenue"
   ]
  },
  {
   "cell_type": "code",
   "execution_count": 42,
   "metadata": {},
   "outputs": [
    {
     "data": {
      "text/html": [
       "<div>\n",
       "<style scoped>\n",
       "    .dataframe tbody tr th:only-of-type {\n",
       "        vertical-align: middle;\n",
       "    }\n",
       "\n",
       "    .dataframe tbody tr th {\n",
       "        vertical-align: top;\n",
       "    }\n",
       "\n",
       "    .dataframe thead th {\n",
       "        text-align: right;\n",
       "    }\n",
       "</style>\n",
       "<table border=\"1\" class=\"dataframe\">\n",
       "  <thead>\n",
       "    <tr style=\"text-align: right;\">\n",
       "      <th></th>\n",
       "      <th>date</th>\n",
       "      <th>users</th>\n",
       "      <th>visits</th>\n",
       "      <th>pageviews</th>\n",
       "      <th>transactions</th>\n",
       "      <th>revenue</th>\n",
       "    </tr>\n",
       "  </thead>\n",
       "  <tbody>\n",
       "    <tr>\n",
       "      <th>0</th>\n",
       "      <td>20170619</td>\n",
       "      <td>39</td>\n",
       "      <td>39</td>\n",
       "      <td>934</td>\n",
       "      <td>41</td>\n",
       "      <td>8976.59</td>\n",
       "    </tr>\n",
       "    <tr>\n",
       "      <th>1</th>\n",
       "      <td>20161105</td>\n",
       "      <td>20</td>\n",
       "      <td>20</td>\n",
       "      <td>649</td>\n",
       "      <td>20</td>\n",
       "      <td>1153.61</td>\n",
       "    </tr>\n",
       "    <tr>\n",
       "      <th>2</th>\n",
       "      <td>20170219</td>\n",
       "      <td>15</td>\n",
       "      <td>15</td>\n",
       "      <td>595</td>\n",
       "      <td>21</td>\n",
       "      <td>1051.69</td>\n",
       "    </tr>\n",
       "    <tr>\n",
       "      <th>3</th>\n",
       "      <td>20170519</td>\n",
       "      <td>39</td>\n",
       "      <td>39</td>\n",
       "      <td>1,012</td>\n",
       "      <td>41</td>\n",
       "      <td>4377.22</td>\n",
       "    </tr>\n",
       "    <tr>\n",
       "      <th>4</th>\n",
       "      <td>20170111</td>\n",
       "      <td>17</td>\n",
       "      <td>17</td>\n",
       "      <td>569</td>\n",
       "      <td>18</td>\n",
       "      <td>1369.64</td>\n",
       "    </tr>\n",
       "    <tr>\n",
       "      <th>...</th>\n",
       "      <td>...</td>\n",
       "      <td>...</td>\n",
       "      <td>...</td>\n",
       "      <td>...</td>\n",
       "      <td>...</td>\n",
       "      <td>...</td>\n",
       "    </tr>\n",
       "    <tr>\n",
       "      <th>300</th>\n",
       "      <td>20170205</td>\n",
       "      <td>12</td>\n",
       "      <td>12</td>\n",
       "      <td>330</td>\n",
       "      <td>12</td>\n",
       "      <td>762.64</td>\n",
       "    </tr>\n",
       "    <tr>\n",
       "      <th>301</th>\n",
       "      <td>20161005</td>\n",
       "      <td>44</td>\n",
       "      <td>44</td>\n",
       "      <td>1,225</td>\n",
       "      <td>45</td>\n",
       "      <td>4829.02</td>\n",
       "    </tr>\n",
       "    <tr>\n",
       "      <th>302</th>\n",
       "      <td>20170330</td>\n",
       "      <td>37</td>\n",
       "      <td>38</td>\n",
       "      <td>957</td>\n",
       "      <td>38</td>\n",
       "      <td>4281.41</td>\n",
       "    </tr>\n",
       "    <tr>\n",
       "      <th>303</th>\n",
       "      <td>20170115</td>\n",
       "      <td>6</td>\n",
       "      <td>6</td>\n",
       "      <td>118</td>\n",
       "      <td>6</td>\n",
       "      <td>98.88</td>\n",
       "    </tr>\n",
       "    <tr>\n",
       "      <th>304</th>\n",
       "      <td>20161231</td>\n",
       "      <td>10</td>\n",
       "      <td>10</td>\n",
       "      <td>254</td>\n",
       "      <td>10</td>\n",
       "      <td>701.17</td>\n",
       "    </tr>\n",
       "  </tbody>\n",
       "</table>\n",
       "<p>305 rows × 6 columns</p>\n",
       "</div>"
      ],
      "text/plain": [
       "         date users visits pageviews transactions  revenue\n",
       "0    20170619    39     39       934           41  8976.59\n",
       "1    20161105    20     20       649           20  1153.61\n",
       "2    20170219    15     15       595           21  1051.69\n",
       "3    20170519    39     39     1,012           41  4377.22\n",
       "4    20170111    17     17       569           18  1369.64\n",
       "..        ...   ...    ...       ...          ...      ...\n",
       "300  20170205    12     12       330           12   762.64\n",
       "301  20161005    44     44     1,225           45  4829.02\n",
       "302  20170330    37     38       957           38  4281.41\n",
       "303  20170115     6      6       118            6    98.88\n",
       "304  20161231    10     10       254           10   701.17\n",
       "\n",
       "[305 rows x 6 columns]"
      ]
     },
     "execution_count": 42,
     "metadata": {},
     "output_type": "execute_result"
    }
   ],
   "source": [
    "query1 = \"\"\"\n",
    "    SELECT \n",
    "        _TABLE_SUFFIX as date,\n",
    "        FORMAT(\"%'d\",COUNT(DISTINCT fullVisitorId)) AS users,\n",
    "        FORMAT(\"%'d\",SUM(totals.visits)) AS visits,\n",
    "        FORMAT(\"%'d\",SUM(totals.pageviews)) AS pageviews,\n",
    "        FORMAT(\"%'d\", SUM(totals.transactions)) AS transactions,\n",
    "        SUM(totals.transactionRevenue)/1000000 AS revenue\n",
    "\n",
    "    FROM \n",
    "        `bigquery-public-data.google_analytics_sample.ga_sessions_*`\n",
    "    WHERE\n",
    "        _TABLE_SUFFIX BETWEEN '20161001' AND '20170801'\n",
    "        AND totals.totalTransactionRevenue IS NOT NULL\n",
    "    GROUP BY date     \n",
    "        \n",
    "\"\"\"\n",
    "safe_query_job = client.query(query1)\n",
    "revenue1 = safe_query_job.to_dataframe()\n",
    "revenue1"
   ]
  },
  {
   "cell_type": "code",
   "execution_count": 43,
   "metadata": {},
   "outputs": [
    {
     "name": "stdout",
     "output_type": "stream",
     "text": [
      "<class 'pandas.core.frame.DataFrame'>\n",
      "RangeIndex: 305 entries, 0 to 304\n",
      "Data columns (total 6 columns):\n",
      " #   Column        Non-Null Count  Dtype  \n",
      "---  ------        --------------  -----  \n",
      " 0   date          305 non-null    object \n",
      " 1   users         305 non-null    object \n",
      " 2   visits        305 non-null    object \n",
      " 3   pageviews     305 non-null    object \n",
      " 4   transactions  305 non-null    object \n",
      " 5   revenue       305 non-null    float64\n",
      "dtypes: float64(1), object(5)\n",
      "memory usage: 14.4+ KB\n"
     ]
    }
   ],
   "source": [
    "revenue1.info()"
   ]
  },
  {
   "cell_type": "code",
   "execution_count": 49,
   "metadata": {},
   "outputs": [
    {
     "data": {
      "text/html": [
       "<div>\n",
       "<style scoped>\n",
       "    .dataframe tbody tr th:only-of-type {\n",
       "        vertical-align: middle;\n",
       "    }\n",
       "\n",
       "    .dataframe tbody tr th {\n",
       "        vertical-align: top;\n",
       "    }\n",
       "\n",
       "    .dataframe thead th {\n",
       "        text-align: right;\n",
       "    }\n",
       "</style>\n",
       "<table border=\"1\" class=\"dataframe\">\n",
       "  <thead>\n",
       "    <tr style=\"text-align: right;\">\n",
       "      <th></th>\n",
       "      <th>date</th>\n",
       "      <th>users</th>\n",
       "      <th>visits</th>\n",
       "      <th>pageviews</th>\n",
       "      <th>transactions</th>\n",
       "      <th>revenue</th>\n",
       "      <th>year</th>\n",
       "      <th>month</th>\n",
       "      <th>day</th>\n",
       "    </tr>\n",
       "  </thead>\n",
       "  <tbody>\n",
       "    <tr>\n",
       "      <th>0</th>\n",
       "      <td>20170619</td>\n",
       "      <td>39</td>\n",
       "      <td>39</td>\n",
       "      <td>934</td>\n",
       "      <td>41</td>\n",
       "      <td>8976.59</td>\n",
       "      <td>2017</td>\n",
       "      <td>06</td>\n",
       "      <td>19</td>\n",
       "    </tr>\n",
       "    <tr>\n",
       "      <th>1</th>\n",
       "      <td>20161105</td>\n",
       "      <td>20</td>\n",
       "      <td>20</td>\n",
       "      <td>649</td>\n",
       "      <td>20</td>\n",
       "      <td>1153.61</td>\n",
       "      <td>2016</td>\n",
       "      <td>11</td>\n",
       "      <td>05</td>\n",
       "    </tr>\n",
       "    <tr>\n",
       "      <th>2</th>\n",
       "      <td>20170219</td>\n",
       "      <td>15</td>\n",
       "      <td>15</td>\n",
       "      <td>595</td>\n",
       "      <td>21</td>\n",
       "      <td>1051.69</td>\n",
       "      <td>2017</td>\n",
       "      <td>02</td>\n",
       "      <td>19</td>\n",
       "    </tr>\n",
       "    <tr>\n",
       "      <th>3</th>\n",
       "      <td>20170519</td>\n",
       "      <td>39</td>\n",
       "      <td>39</td>\n",
       "      <td>1,012</td>\n",
       "      <td>41</td>\n",
       "      <td>4377.22</td>\n",
       "      <td>2017</td>\n",
       "      <td>05</td>\n",
       "      <td>19</td>\n",
       "    </tr>\n",
       "    <tr>\n",
       "      <th>4</th>\n",
       "      <td>20170111</td>\n",
       "      <td>17</td>\n",
       "      <td>17</td>\n",
       "      <td>569</td>\n",
       "      <td>18</td>\n",
       "      <td>1369.64</td>\n",
       "      <td>2017</td>\n",
       "      <td>01</td>\n",
       "      <td>11</td>\n",
       "    </tr>\n",
       "    <tr>\n",
       "      <th>...</th>\n",
       "      <td>...</td>\n",
       "      <td>...</td>\n",
       "      <td>...</td>\n",
       "      <td>...</td>\n",
       "      <td>...</td>\n",
       "      <td>...</td>\n",
       "      <td>...</td>\n",
       "      <td>...</td>\n",
       "      <td>...</td>\n",
       "    </tr>\n",
       "    <tr>\n",
       "      <th>300</th>\n",
       "      <td>20170205</td>\n",
       "      <td>12</td>\n",
       "      <td>12</td>\n",
       "      <td>330</td>\n",
       "      <td>12</td>\n",
       "      <td>762.64</td>\n",
       "      <td>2017</td>\n",
       "      <td>02</td>\n",
       "      <td>05</td>\n",
       "    </tr>\n",
       "    <tr>\n",
       "      <th>301</th>\n",
       "      <td>20161005</td>\n",
       "      <td>44</td>\n",
       "      <td>44</td>\n",
       "      <td>1,225</td>\n",
       "      <td>45</td>\n",
       "      <td>4829.02</td>\n",
       "      <td>2016</td>\n",
       "      <td>10</td>\n",
       "      <td>05</td>\n",
       "    </tr>\n",
       "    <tr>\n",
       "      <th>302</th>\n",
       "      <td>20170330</td>\n",
       "      <td>37</td>\n",
       "      <td>38</td>\n",
       "      <td>957</td>\n",
       "      <td>38</td>\n",
       "      <td>4281.41</td>\n",
       "      <td>2017</td>\n",
       "      <td>03</td>\n",
       "      <td>30</td>\n",
       "    </tr>\n",
       "    <tr>\n",
       "      <th>303</th>\n",
       "      <td>20170115</td>\n",
       "      <td>6</td>\n",
       "      <td>6</td>\n",
       "      <td>118</td>\n",
       "      <td>6</td>\n",
       "      <td>98.88</td>\n",
       "      <td>2017</td>\n",
       "      <td>01</td>\n",
       "      <td>15</td>\n",
       "    </tr>\n",
       "    <tr>\n",
       "      <th>304</th>\n",
       "      <td>20161231</td>\n",
       "      <td>10</td>\n",
       "      <td>10</td>\n",
       "      <td>254</td>\n",
       "      <td>10</td>\n",
       "      <td>701.17</td>\n",
       "      <td>2016</td>\n",
       "      <td>12</td>\n",
       "      <td>31</td>\n",
       "    </tr>\n",
       "  </tbody>\n",
       "</table>\n",
       "<p>305 rows × 9 columns</p>\n",
       "</div>"
      ],
      "text/plain": [
       "         date users visits pageviews transactions  revenue  year month day\n",
       "0    20170619    39     39       934           41  8976.59  2017    06  19\n",
       "1    20161105    20     20       649           20  1153.61  2016    11  05\n",
       "2    20170219    15     15       595           21  1051.69  2017    02  19\n",
       "3    20170519    39     39     1,012           41  4377.22  2017    05  19\n",
       "4    20170111    17     17       569           18  1369.64  2017    01  11\n",
       "..        ...   ...    ...       ...          ...      ...   ...   ...  ..\n",
       "300  20170205    12     12       330           12   762.64  2017    02  05\n",
       "301  20161005    44     44     1,225           45  4829.02  2016    10  05\n",
       "302  20170330    37     38       957           38  4281.41  2017    03  30\n",
       "303  20170115     6      6       118            6    98.88  2017    01  15\n",
       "304  20161231    10     10       254           10   701.17  2016    12  31\n",
       "\n",
       "[305 rows x 9 columns]"
      ]
     },
     "execution_count": 49,
     "metadata": {},
     "output_type": "execute_result"
    }
   ],
   "source": [
    "revenue1['year'] = pd.Series(revenue1['date']).str[0:4]\n",
    "revenue1['month'] = pd.Series(revenue1['date']).str[4:6]\n",
    "revenue1['day'] = pd.Series(revenue1['date']).str[6:8]\n",
    "revenue1"
   ]
  },
  {
   "cell_type": "code",
   "execution_count": 51,
   "metadata": {},
   "outputs": [
    {
     "data": {
      "text/html": [
       "<div>\n",
       "<style scoped>\n",
       "    .dataframe tbody tr th:only-of-type {\n",
       "        vertical-align: middle;\n",
       "    }\n",
       "\n",
       "    .dataframe tbody tr th {\n",
       "        vertical-align: top;\n",
       "    }\n",
       "\n",
       "    .dataframe thead th {\n",
       "        text-align: right;\n",
       "    }\n",
       "</style>\n",
       "<table border=\"1\" class=\"dataframe\">\n",
       "  <thead>\n",
       "    <tr style=\"text-align: right;\">\n",
       "      <th></th>\n",
       "      <th>date</th>\n",
       "      <th>users</th>\n",
       "      <th>visits</th>\n",
       "      <th>pageviews</th>\n",
       "      <th>transactions</th>\n",
       "      <th>revenue</th>\n",
       "      <th>year</th>\n",
       "      <th>month</th>\n",
       "      <th>day</th>\n",
       "      <th>AOV</th>\n",
       "      <th>CR</th>\n",
       "      <th>RPV</th>\n",
       "    </tr>\n",
       "  </thead>\n",
       "  <tbody>\n",
       "    <tr>\n",
       "      <th>0</th>\n",
       "      <td>20170619</td>\n",
       "      <td>39</td>\n",
       "      <td>39</td>\n",
       "      <td>934</td>\n",
       "      <td>41</td>\n",
       "      <td>8976.59</td>\n",
       "      <td>2017</td>\n",
       "      <td>06</td>\n",
       "      <td>19</td>\n",
       "      <td>218.941220</td>\n",
       "      <td>105.128205</td>\n",
       "      <td>23016.897436</td>\n",
       "    </tr>\n",
       "    <tr>\n",
       "      <th>1</th>\n",
       "      <td>20161105</td>\n",
       "      <td>20</td>\n",
       "      <td>20</td>\n",
       "      <td>649</td>\n",
       "      <td>20</td>\n",
       "      <td>1153.61</td>\n",
       "      <td>2016</td>\n",
       "      <td>11</td>\n",
       "      <td>05</td>\n",
       "      <td>57.680500</td>\n",
       "      <td>100.000000</td>\n",
       "      <td>5768.050000</td>\n",
       "    </tr>\n",
       "    <tr>\n",
       "      <th>2</th>\n",
       "      <td>20170219</td>\n",
       "      <td>15</td>\n",
       "      <td>15</td>\n",
       "      <td>595</td>\n",
       "      <td>21</td>\n",
       "      <td>1051.69</td>\n",
       "      <td>2017</td>\n",
       "      <td>02</td>\n",
       "      <td>19</td>\n",
       "      <td>50.080476</td>\n",
       "      <td>140.000000</td>\n",
       "      <td>7011.266667</td>\n",
       "    </tr>\n",
       "    <tr>\n",
       "      <th>3</th>\n",
       "      <td>20170519</td>\n",
       "      <td>39</td>\n",
       "      <td>39</td>\n",
       "      <td>1,012</td>\n",
       "      <td>41</td>\n",
       "      <td>4377.22</td>\n",
       "      <td>2017</td>\n",
       "      <td>05</td>\n",
       "      <td>19</td>\n",
       "      <td>106.761463</td>\n",
       "      <td>105.128205</td>\n",
       "      <td>11223.641026</td>\n",
       "    </tr>\n",
       "    <tr>\n",
       "      <th>4</th>\n",
       "      <td>20170111</td>\n",
       "      <td>17</td>\n",
       "      <td>17</td>\n",
       "      <td>569</td>\n",
       "      <td>18</td>\n",
       "      <td>1369.64</td>\n",
       "      <td>2017</td>\n",
       "      <td>01</td>\n",
       "      <td>11</td>\n",
       "      <td>76.091111</td>\n",
       "      <td>105.882353</td>\n",
       "      <td>8056.705882</td>\n",
       "    </tr>\n",
       "    <tr>\n",
       "      <th>...</th>\n",
       "      <td>...</td>\n",
       "      <td>...</td>\n",
       "      <td>...</td>\n",
       "      <td>...</td>\n",
       "      <td>...</td>\n",
       "      <td>...</td>\n",
       "      <td>...</td>\n",
       "      <td>...</td>\n",
       "      <td>...</td>\n",
       "      <td>...</td>\n",
       "      <td>...</td>\n",
       "      <td>...</td>\n",
       "    </tr>\n",
       "    <tr>\n",
       "      <th>300</th>\n",
       "      <td>20170205</td>\n",
       "      <td>12</td>\n",
       "      <td>12</td>\n",
       "      <td>330</td>\n",
       "      <td>12</td>\n",
       "      <td>762.64</td>\n",
       "      <td>2017</td>\n",
       "      <td>02</td>\n",
       "      <td>05</td>\n",
       "      <td>63.553333</td>\n",
       "      <td>100.000000</td>\n",
       "      <td>6355.333333</td>\n",
       "    </tr>\n",
       "    <tr>\n",
       "      <th>301</th>\n",
       "      <td>20161005</td>\n",
       "      <td>44</td>\n",
       "      <td>44</td>\n",
       "      <td>1,225</td>\n",
       "      <td>45</td>\n",
       "      <td>4829.02</td>\n",
       "      <td>2016</td>\n",
       "      <td>10</td>\n",
       "      <td>05</td>\n",
       "      <td>107.311556</td>\n",
       "      <td>102.272727</td>\n",
       "      <td>10975.045455</td>\n",
       "    </tr>\n",
       "    <tr>\n",
       "      <th>302</th>\n",
       "      <td>20170330</td>\n",
       "      <td>37</td>\n",
       "      <td>38</td>\n",
       "      <td>957</td>\n",
       "      <td>38</td>\n",
       "      <td>4281.41</td>\n",
       "      <td>2017</td>\n",
       "      <td>03</td>\n",
       "      <td>30</td>\n",
       "      <td>112.668684</td>\n",
       "      <td>100.000000</td>\n",
       "      <td>11266.868421</td>\n",
       "    </tr>\n",
       "    <tr>\n",
       "      <th>303</th>\n",
       "      <td>20170115</td>\n",
       "      <td>6</td>\n",
       "      <td>6</td>\n",
       "      <td>118</td>\n",
       "      <td>6</td>\n",
       "      <td>98.88</td>\n",
       "      <td>2017</td>\n",
       "      <td>01</td>\n",
       "      <td>15</td>\n",
       "      <td>16.480000</td>\n",
       "      <td>100.000000</td>\n",
       "      <td>1648.000000</td>\n",
       "    </tr>\n",
       "    <tr>\n",
       "      <th>304</th>\n",
       "      <td>20161231</td>\n",
       "      <td>10</td>\n",
       "      <td>10</td>\n",
       "      <td>254</td>\n",
       "      <td>10</td>\n",
       "      <td>701.17</td>\n",
       "      <td>2016</td>\n",
       "      <td>12</td>\n",
       "      <td>31</td>\n",
       "      <td>70.117000</td>\n",
       "      <td>100.000000</td>\n",
       "      <td>7011.700000</td>\n",
       "    </tr>\n",
       "  </tbody>\n",
       "</table>\n",
       "<p>305 rows × 12 columns</p>\n",
       "</div>"
      ],
      "text/plain": [
       "         date users  visits pageviews  transactions  revenue  year month day  \\\n",
       "0    20170619    39      39       934            41  8976.59  2017    06  19   \n",
       "1    20161105    20      20       649            20  1153.61  2016    11  05   \n",
       "2    20170219    15      15       595            21  1051.69  2017    02  19   \n",
       "3    20170519    39      39     1,012            41  4377.22  2017    05  19   \n",
       "4    20170111    17      17       569            18  1369.64  2017    01  11   \n",
       "..        ...   ...     ...       ...           ...      ...   ...   ...  ..   \n",
       "300  20170205    12      12       330            12   762.64  2017    02  05   \n",
       "301  20161005    44      44     1,225            45  4829.02  2016    10  05   \n",
       "302  20170330    37      38       957            38  4281.41  2017    03  30   \n",
       "303  20170115     6       6       118             6    98.88  2017    01  15   \n",
       "304  20161231    10      10       254            10   701.17  2016    12  31   \n",
       "\n",
       "            AOV          CR           RPV  \n",
       "0    218.941220  105.128205  23016.897436  \n",
       "1     57.680500  100.000000   5768.050000  \n",
       "2     50.080476  140.000000   7011.266667  \n",
       "3    106.761463  105.128205  11223.641026  \n",
       "4     76.091111  105.882353   8056.705882  \n",
       "..          ...         ...           ...  \n",
       "300   63.553333  100.000000   6355.333333  \n",
       "301  107.311556  102.272727  10975.045455  \n",
       "302  112.668684  100.000000  11266.868421  \n",
       "303   16.480000  100.000000   1648.000000  \n",
       "304   70.117000  100.000000   7011.700000  \n",
       "\n",
       "[305 rows x 12 columns]"
      ]
     },
     "execution_count": 51,
     "metadata": {},
     "output_type": "execute_result"
    }
   ],
   "source": [
    "revenue1['transactions'] = pd.Series(revenue1['transactions']).str.replace(',', '').astype(int)\n",
    "revenue1['visits'] = pd.Series(revenue1['visits']).str.replace(',', '').astype(int)\n",
    "revenue1['AOV'] = revenue1['revenue']/revenue1['transactions']\n",
    "revenue1['CR'] = revenue1['transactions']/revenue1['visits']*100\n",
    "revenue1['RPV'] = revenue1['AOV']*revenue1['CR']\n",
    "revenue1"
   ]
  },
  {
   "cell_type": "code",
   "execution_count": 58,
   "metadata": {},
   "outputs": [
    {
     "data": {
      "text/plain": [
       "<matplotlib.axes._subplots.AxesSubplot at 0x7fa1768f1650>"
      ]
     },
     "execution_count": 58,
     "metadata": {},
     "output_type": "execute_result"
    },
    {
     "data": {
      "image/png": "[encoded data removed]",
      "text/plain": [
       "<Figure size 432x288 with 1 Axes>"
      ]
     },
     "metadata": {
      "image/png": {
       "height": 261,
       "width": 388
      },
      "needs_background": "light"
     },
     "output_type": "display_data"
    }
   ],
   "source": [
    "sns.barplot(x='month',\n",
    "            y='AOV',\n",
    "            data=revenue1[revenue1.year=='2017'])"
   ]
  },
  {
   "cell_type": "code",
   "execution_count": 65,
   "metadata": {},
   "outputs": [
    {
     "data": {
      "text/plain": [
       "<matplotlib.axes._subplots.AxesSubplot at 0x7fa17d664650>"
      ]
     },
     "execution_count": 65,
     "metadata": {},
     "output_type": "execute_result"
    },
    {
     "data": {
      "image/png": "[encoded data removed]",
      "text/plain": [
       "<Figure size 432x288 with 1 Axes>"
      ]
     },
     "metadata": {
      "image/png": {
       "height": 257,
       "width": 379
      },
      "needs_background": "light"
     },
     "output_type": "display_data"
    }
   ],
   "source": [
    "revenue1.plot(x='month', y='AOV', kind='line', label='month', colormap='Paired', use_index=False)"
   ]
  },
  {
   "cell_type": "code",
   "execution_count": 59,
   "metadata": {},
   "outputs": [
    {
     "data": {
      "text/plain": [
       "<matplotlib.axes._subplots.AxesSubplot at 0x7fa1af4555d0>"
      ]
     },
     "execution_count": 59,
     "metadata": {},
     "output_type": "execute_result"
    },
    {
     "data": {
      "image/png": "[encoded data removed]",
      "text/plain": [
       "<Figure size 432x288 with 1 Axes>"
      ]
     },
     "metadata": {
      "image/png": {
       "height": 261,
       "width": 388
      },
      "needs_background": "light"
     },
     "output_type": "display_data"
    }
   ],
   "source": [
    "sns.barplot(x='month',\n",
    "            y='CR',\n",
    "            data=revenue1[revenue1.year=='2017'])"
   ]
  },
  {
   "cell_type": "code",
   "execution_count": 60,
   "metadata": {},
   "outputs": [
    {
     "data": {
      "text/plain": [
       "<matplotlib.axes._subplots.AxesSubplot at 0x7fa17df14050>"
      ]
     },
     "execution_count": 60,
     "metadata": {},
     "output_type": "execute_result"
    },
    {
     "data": {
      "image/png": "[encoded data removed]",
      "text/plain": [
       "<Figure size 432x288 with 1 Axes>"
      ]
     },
     "metadata": {
      "image/png": {
       "height": 261,
       "width": 401
      },
      "needs_background": "light"
     },
     "output_type": "display_data"
    }
   ],
   "source": [
    "sns.barplot(x='month',\n",
    "            y='RPV',\n",
    "            data=revenue1[revenue1.year=='2017'])"
   ]
  },
  {
   "cell_type": "code",
   "execution_count": 53,
   "metadata": {},
   "outputs": [
    {
     "data": {
      "text/html": [
       "<div>\n",
       "<style scoped>\n",
       "    .dataframe tbody tr th:only-of-type {\n",
       "        vertical-align: middle;\n",
       "    }\n",
       "\n",
       "    .dataframe tbody tr th {\n",
       "        vertical-align: top;\n",
       "    }\n",
       "\n",
       "    .dataframe thead th {\n",
       "        text-align: right;\n",
       "    }\n",
       "</style>\n",
       "<table border=\"1\" class=\"dataframe\">\n",
       "  <thead>\n",
       "    <tr style=\"text-align: right;\">\n",
       "      <th></th>\n",
       "      <th>visits</th>\n",
       "      <th>transactions</th>\n",
       "      <th>revenue</th>\n",
       "      <th>AOV</th>\n",
       "      <th>CR</th>\n",
       "      <th>RPV</th>\n",
       "    </tr>\n",
       "  </thead>\n",
       "  <tbody>\n",
       "    <tr>\n",
       "      <th>count</th>\n",
       "      <td>305.000000</td>\n",
       "      <td>305.000000</td>\n",
       "      <td>305.000000</td>\n",
       "      <td>305.000000</td>\n",
       "      <td>305.000000</td>\n",
       "      <td>305.000000</td>\n",
       "    </tr>\n",
       "    <tr>\n",
       "      <th>mean</th>\n",
       "      <td>31.268852</td>\n",
       "      <td>32.688525</td>\n",
       "      <td>4129.093246</td>\n",
       "      <td>119.408296</td>\n",
       "      <td>104.415313</td>\n",
       "      <td>12403.815355</td>\n",
       "    </tr>\n",
       "    <tr>\n",
       "      <th>std</th>\n",
       "      <td>15.467916</td>\n",
       "      <td>16.441824</td>\n",
       "      <td>3368.480064</td>\n",
       "      <td>71.235260</td>\n",
       "      <td>13.305356</td>\n",
       "      <td>7579.979814</td>\n",
       "    </tr>\n",
       "    <tr>\n",
       "      <th>min</th>\n",
       "      <td>3.000000</td>\n",
       "      <td>3.000000</td>\n",
       "      <td>70.540000</td>\n",
       "      <td>16.480000</td>\n",
       "      <td>100.000000</td>\n",
       "      <td>1648.000000</td>\n",
       "    </tr>\n",
       "    <tr>\n",
       "      <th>25%</th>\n",
       "      <td>19.000000</td>\n",
       "      <td>20.000000</td>\n",
       "      <td>1629.980000</td>\n",
       "      <td>74.830526</td>\n",
       "      <td>100.000000</td>\n",
       "      <td>7724.416667</td>\n",
       "    </tr>\n",
       "    <tr>\n",
       "      <th>50%</th>\n",
       "      <td>30.000000</td>\n",
       "      <td>32.000000</td>\n",
       "      <td>3816.780000</td>\n",
       "      <td>108.517407</td>\n",
       "      <td>102.040816</td>\n",
       "      <td>11257.862069</td>\n",
       "    </tr>\n",
       "    <tr>\n",
       "      <th>75%</th>\n",
       "      <td>39.000000</td>\n",
       "      <td>41.000000</td>\n",
       "      <td>5272.760000</td>\n",
       "      <td>139.845455</td>\n",
       "      <td>105.128205</td>\n",
       "      <td>14582.406250</td>\n",
       "    </tr>\n",
       "    <tr>\n",
       "      <th>max</th>\n",
       "      <td>87.000000</td>\n",
       "      <td>89.000000</td>\n",
       "      <td>27150.610000</td>\n",
       "      <td>733.800270</td>\n",
       "      <td>307.692308</td>\n",
       "      <td>84845.656250</td>\n",
       "    </tr>\n",
       "  </tbody>\n",
       "</table>\n",
       "</div>"
      ],
      "text/plain": [
       "           visits  transactions       revenue         AOV          CR  \\\n",
       "count  305.000000    305.000000    305.000000  305.000000  305.000000   \n",
       "mean    31.268852     32.688525   4129.093246  119.408296  104.415313   \n",
       "std     15.467916     16.441824   3368.480064   71.235260   13.305356   \n",
       "min      3.000000      3.000000     70.540000   16.480000  100.000000   \n",
       "25%     19.000000     20.000000   1629.980000   74.830526  100.000000   \n",
       "50%     30.000000     32.000000   3816.780000  108.517407  102.040816   \n",
       "75%     39.000000     41.000000   5272.760000  139.845455  105.128205   \n",
       "max     87.000000     89.000000  27150.610000  733.800270  307.692308   \n",
       "\n",
       "                RPV  \n",
       "count    305.000000  \n",
       "mean   12403.815355  \n",
       "std     7579.979814  \n",
       "min     1648.000000  \n",
       "25%     7724.416667  \n",
       "50%    11257.862069  \n",
       "75%    14582.406250  \n",
       "max    84845.656250  "
      ]
     },
     "execution_count": 53,
     "metadata": {},
     "output_type": "execute_result"
    }
   ],
   "source": [
    "revenue1.describe()"
   ]
  },
  {
   "cell_type": "code",
   "execution_count": 50,
   "metadata": {},
   "outputs": [
    {
     "data": {
      "text/html": [
       "<div>\n",
       "<style scoped>\n",
       "    .dataframe tbody tr th:only-of-type {\n",
       "        vertical-align: middle;\n",
       "    }\n",
       "\n",
       "    .dataframe tbody tr th {\n",
       "        vertical-align: top;\n",
       "    }\n",
       "\n",
       "    .dataframe thead th {\n",
       "        text-align: right;\n",
       "    }\n",
       "</style>\n",
       "<table border=\"1\" class=\"dataframe\">\n",
       "  <thead>\n",
       "    <tr style=\"text-align: right;\">\n",
       "      <th></th>\n",
       "      <th>month</th>\n",
       "      <th>transactions</th>\n",
       "      <th>visits</th>\n",
       "      <th>revenue</th>\n",
       "    </tr>\n",
       "  </thead>\n",
       "  <tbody>\n",
       "    <tr>\n",
       "      <th>0</th>\n",
       "      <td>2016-10-01</td>\n",
       "      <td>919</td>\n",
       "      <td>872</td>\n",
       "      <td>113329.07</td>\n",
       "    </tr>\n",
       "    <tr>\n",
       "      <th>1</th>\n",
       "      <td>2016-11-01</td>\n",
       "      <td>955</td>\n",
       "      <td>919</td>\n",
       "      <td>119013.87</td>\n",
       "    </tr>\n",
       "    <tr>\n",
       "      <th>2</th>\n",
       "      <td>2016-12-01</td>\n",
       "      <td>1440</td>\n",
       "      <td>1385</td>\n",
       "      <td>153856.76</td>\n",
       "    </tr>\n",
       "  </tbody>\n",
       "</table>\n",
       "</div>"
      ],
      "text/plain": [
       "        month  transactions  visits    revenue\n",
       "0  2016-10-01           919     872  113329.07\n",
       "1  2016-11-01           955     919  119013.87\n",
       "2  2016-12-01          1440    1385  153856.76"
      ]
     },
     "execution_count": 50,
     "metadata": {},
     "output_type": "execute_result"
    }
   ],
   "source": [
    "# traffic by month\n",
    "query = \"\"\"\n",
    "    SELECT \n",
    "        DATE_TRUNC(PARSE_DATE('%Y%m%d',date), MONTH) AS month,\n",
    "        SUM(totals.transactions) AS transactions,\n",
    "        SUM(totals.visits) AS visits,        \n",
    "        SUM(totals.transactionRevenue)/1000000 AS revenue\n",
    "\n",
    "    FROM \n",
    "        `bigquery-public-data.google_analytics_sample.ga_sessions_*`\n",
    "    WHERE\n",
    "        _TABLE_SUFFIX BETWEEN '20161001' AND '20161230'\n",
    "        AND totals.totalTransactionRevenue IS NOT NULL\n",
    "    GROUP BY 1\n",
    "    ORDER BY 1\n",
    "        \n",
    "\"\"\"\n",
    "safe_query_job = client.query(query)\n",
    "df_1 = safe_query_job.to_dataframe()\n",
    "df_1.head(3)"
   ]
  },
  {
   "cell_type": "code",
   "execution_count": 40,
   "metadata": {},
   "outputs": [
    {
     "name": "stdout",
     "output_type": "stream",
     "text": [
      "<class 'pandas.core.frame.DataFrame'>\n",
      "RangeIndex: 1 entries, 0 to 0\n",
      "Data columns (total 5 columns):\n",
      " #   Column        Non-Null Count  Dtype  \n",
      "---  ------        --------------  -----  \n",
      " 0   users         1 non-null      object \n",
      " 1   visits        1 non-null      object \n",
      " 2   pageviews     1 non-null      object \n",
      " 3   transactions  1 non-null      object \n",
      " 4   revenue       1 non-null      float64\n",
      "dtypes: float64(1), object(4)\n",
      "memory usage: 168.0+ bytes\n"
     ]
    }
   ],
   "source": [
    "revenue.info()"
   ]
  },
  {
   "cell_type": "code",
   "execution_count": 13,
   "metadata": {},
   "outputs": [
    {
     "data": {
      "text/plain": [
       "0    9,970\n",
       "Name: transactions, dtype: object"
      ]
     },
     "execution_count": 13,
     "metadata": {},
     "output_type": "execute_result"
    }
   ],
   "source": [
    "revenue['transactions']"
   ]
  },
  {
   "cell_type": "code",
   "execution_count": 26,
   "metadata": {},
   "outputs": [],
   "source": [
    "revenue['transactions'] = pd.Series(revenue['transactions']).str.replace(',', '').astype(int)"
   ]
  },
  {
   "cell_type": "code",
   "execution_count": 30,
   "metadata": {},
   "outputs": [],
   "source": [
    "revenue['visits'] = pd.Series(revenue['visits']).str.replace(',', '').astype(int)"
   ]
  },
  {
   "cell_type": "code",
   "execution_count": 28,
   "metadata": {},
   "outputs": [],
   "source": [
    "revenue['AOV'] = revenue['revenue']/revenue['transactions']"
   ]
  },
  {
   "cell_type": "code",
   "execution_count": 33,
   "metadata": {},
   "outputs": [],
   "source": [
    "revenue['CR'] = revenue['transactions']/revenue['visits']*100"
   ]
  },
  {
   "cell_type": "code",
   "execution_count": 35,
   "metadata": {},
   "outputs": [],
   "source": [
    "revenue['RPV'] = revenue['AOV']*revenue['CR']"
   ]
  },
  {
   "cell_type": "code",
   "execution_count": 36,
   "metadata": {},
   "outputs": [
    {
     "data": {
      "text/html": [
       "<div>\n",
       "<style scoped>\n",
       "    .dataframe tbody tr th:only-of-type {\n",
       "        vertical-align: middle;\n",
       "    }\n",
       "\n",
       "    .dataframe tbody tr th {\n",
       "        vertical-align: top;\n",
       "    }\n",
       "\n",
       "    .dataframe thead th {\n",
       "        text-align: right;\n",
       "    }\n",
       "</style>\n",
       "<table border=\"1\" class=\"dataframe\">\n",
       "  <thead>\n",
       "    <tr style=\"text-align: right;\">\n",
       "      <th></th>\n",
       "      <th>users</th>\n",
       "      <th>visits</th>\n",
       "      <th>pageviews</th>\n",
       "      <th>transactions</th>\n",
       "      <th>revenue</th>\n",
       "      <th>AOV</th>\n",
       "      <th>CR</th>\n",
       "      <th>RPV</th>\n",
       "    </tr>\n",
       "  </thead>\n",
       "  <tbody>\n",
       "    <tr>\n",
       "      <th>0</th>\n",
       "      <td>8,315</td>\n",
       "      <td>9537</td>\n",
       "      <td>256,659</td>\n",
       "      <td>9970</td>\n",
       "      <td>1259373.44</td>\n",
       "      <td>126.316293</td>\n",
       "      <td>104.540212</td>\n",
       "      <td>13205.132012</td>\n",
       "    </tr>\n",
       "  </tbody>\n",
       "</table>\n",
       "</div>"
      ],
      "text/plain": [
       "   users  visits pageviews  transactions     revenue         AOV          CR  \\\n",
       "0  8,315    9537   256,659          9970  1259373.44  126.316293  104.540212   \n",
       "\n",
       "            RPV  \n",
       "0  13205.132012  "
      ]
     },
     "execution_count": 36,
     "metadata": {},
     "output_type": "execute_result"
    }
   ],
   "source": [
    "revenue"
   ]
  },
  {
   "cell_type": "code",
   "execution_count": null,
   "metadata": {},
   "outputs": [],
   "source": [
    "revenue['CR'] = "
   ]
  }
 ],
 "metadata": {
  "kernelspec": {
   "display_name": "Python 3",
   "language": "python",
   "name": "python3"
  },
  "language_info": {
   "codemirror_mode": {
    "name": "ipython",
    "version": 3
   },
   "file_extension": ".py",
   "mimetype": "text/x-python",
   "name": "python",
   "nbconvert_exporter": "python",
   "pygments_lexer": "ipython3",
   "version": "3.7.4"
  }
 },
 "nbformat": 4,
 "nbformat_minor": 4
}
